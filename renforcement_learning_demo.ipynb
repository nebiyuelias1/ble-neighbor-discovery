version https://git-lfs.github.com/spec/v1
oid sha256:b47df87b8b6e4ccf66fd6fa0b01ecc8bedff2fc1ded82d20e681907b4fc04852
size 1227046
